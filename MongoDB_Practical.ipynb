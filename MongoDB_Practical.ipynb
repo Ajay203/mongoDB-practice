{
 "cells": [
  {
   "cell_type": "code",
   "execution_count": 1,
   "id": "9532a9a7",
   "metadata": {},
   "outputs": [
    {
     "name": "stdout",
     "output_type": "stream",
     "text": [
      "Requirement already satisfied: pymongo in c:\\programming language\\python\\python 39\\lib\\site-packages (4.3.3)\n",
      "Requirement already satisfied: dnspython<3.0.0,>=1.16.0 in c:\\programming language\\python\\python 39\\lib\\site-packages (from pymongo) (2.3.0)\n"
     ]
    }
   ],
   "source": [
    "!pip install pymongo"
   ]
  },
  {
   "cell_type": "code",
   "execution_count": 2,
   "id": "01905f80",
   "metadata": {},
   "outputs": [],
   "source": [
    "import pymongo"
   ]
  },
  {
   "cell_type": "code",
   "execution_count": 3,
   "id": "9d37a95b",
   "metadata": {},
   "outputs": [
    {
     "name": "stdout",
     "output_type": "stream",
     "text": [
      "MongoClient(host=['localhost:27017'], document_class=dict, tz_aware=False, connect=True)\n"
     ]
    }
   ],
   "source": [
    "#establish connection with MongoDB client.\n",
    "\n",
    "client = pymongo.MongoClient(\"mongodb://localhost:27017/\")\n",
    "print(client)"
   ]
  },
  {
   "cell_type": "code",
   "execution_count": 4,
   "id": "b268dadf",
   "metadata": {},
   "outputs": [
    {
     "name": "stdout",
     "output_type": "stream",
     "text": [
      "MongoClient(host=['localhost:27017'], document_class=dict, tz_aware=False, connect=True)\n"
     ]
    }
   ],
   "source": [
    "#2nd way to establish connection with MongoDB client with help of a vairable.\n",
    "\n",
    "Default_connection_url = \"mongodb://localhost:27017/\"\n",
    "client = pymongo.MongoClient(Default_connection_url)\n",
    "print(client)"
   ]
  },
  {
   "cell_type": "code",
   "execution_count": 5,
   "id": "5b7c642f",
   "metadata": {
    "scrolled": true
   },
   "outputs": [
    {
     "name": "stdout",
     "output_type": "stream",
     "text": [
      "Database(MongoClient(host=['localhost:27017'], document_class=dict, tz_aware=False, connect=True), 'MY_DB')\n"
     ]
    }
   ],
   "source": [
    "#Creating a DB in MongoClient\n",
    "\n",
    "DB_name = \"MY_DB\"\n",
    "database = client[DB_name]\n",
    "print (database)"
   ]
  },
  {
   "cell_type": "code",
   "execution_count": 6,
   "id": "0655b643",
   "metadata": {},
   "outputs": [
    {
     "data": {
      "text/plain": [
       "['BigData', 'admin', 'as20', 'config', 'local']"
      ]
     },
     "execution_count": 6,
     "metadata": {},
     "output_type": "execute_result"
    }
   ],
   "source": [
    "#to list all databases\n",
    "\n",
    "client.list_database_names()"
   ]
  },
  {
   "cell_type": "code",
   "execution_count": 7,
   "id": "a28f0ae8",
   "metadata": {},
   "outputs": [],
   "source": [
    "#python function to check if a database is already there in MongoDB\n",
    "\n",
    "def checkDB(DB_name:str , client:str ) -> str:\n",
    "    \"\"\"To check if db is available in MongoDB\"\"\"\n",
    "    DBlist = client.list_database_names()\n",
    "    if DB_name in DBlist :\n",
    "        print (f\"The database {DB_name} is already availabe in {DBlist}.Please choose a new name.\")\n",
    "        return True\n",
    "    else :\n",
    "        print (f\"The database {DB_name} is not availabe , or no collection/table is added\")\n",
    "        return False\n"
   ]
  },
  {
   "cell_type": "code",
   "execution_count": 8,
   "id": "e0f9aba3",
   "metadata": {},
   "outputs": [
    {
     "name": "stdout",
     "output_type": "stream",
     "text": [
      "The database BigData is already availabe in ['BigData', 'admin', 'as20', 'config', 'local'].Please choose a new name.\n"
     ]
    },
    {
     "data": {
      "text/plain": [
       "True"
      ]
     },
     "execution_count": 8,
     "metadata": {},
     "output_type": "execute_result"
    }
   ],
   "source": [
    "checkDB(DB_name=\"BigData\",client=client)\n"
   ]
  },
  {
   "cell_type": "code",
   "execution_count": 9,
   "id": "228764c4",
   "metadata": {},
   "outputs": [
    {
     "name": "stdout",
     "output_type": "stream",
     "text": [
      "Collection(Database(MongoClient(host=['localhost:27017'], document_class=dict, tz_aware=False, connect=True), 'MY_DB'), 'Employees')\n"
     ]
    }
   ],
   "source": [
    "#create a collection inside the database.\n",
    "\n",
    "Collection_name = \"Employees\"\n",
    "collection = database[Collection_name]\n",
    "print(collection)"
   ]
  },
  {
   "cell_type": "code",
   "execution_count": 10,
   "id": "09904133",
   "metadata": {},
   "outputs": [],
   "source": [
    "#python function to check if a collection/table is already there in MongoDB\n",
    "\n",
    "def checkcollection(collection_name, DB_name, db) :\n",
    "    \"\"\"To check if collection exist in db in MongoDB\"\"\"\n",
    "    collection_list = db.list_collection_names()\n",
    "    if collection_name in collection_list :\n",
    "        print (f\"The collection {collection_name} is already availabe in {DB_name}.Please choose a new name.\")\n",
    "        return True\n",
    "    else :\n",
    "        print (f\"The collection {collection_name} is not availabe in {DB_name}, or no fields/column/data is added\")\n",
    "        return False\n"
   ]
  },
  {
   "cell_type": "code",
   "execution_count": 11,
   "id": "75215bd6",
   "metadata": {},
   "outputs": [
    {
     "name": "stdout",
     "output_type": "stream",
     "text": [
      "The collection Employee is not availabe in MY_DB, or no fields/column/data is added\n"
     ]
    },
    {
     "data": {
      "text/plain": [
       "False"
      ]
     },
     "execution_count": 11,
     "metadata": {},
     "output_type": "execute_result"
    }
   ],
   "source": [
    "checkcollection(collection_name=\"Employee\", DB_name=\"MY_DB\" , db=database)"
   ]
  },
  {
   "cell_type": "code",
   "execution_count": 12,
   "id": "ac537968",
   "metadata": {},
   "outputs": [
    {
     "data": {
      "text/plain": [
       "<pymongo.results.InsertOneResult at 0x236a586a7f0>"
      ]
     },
     "execution_count": 12,
     "metadata": {},
     "output_type": "execute_result"
    }
   ],
   "source": [
    "# inserting documents inside collections\n",
    "\n",
    "db_1 = client[\"as20\"]\n",
    "collection = db_1[\"test\"]\n",
    "record = {\n",
    "    'employeeName':'shashank',\n",
    "    'age': 29,\n",
    "    'salary': 30000 ,\n",
    "    'skill':['python','sql','pgsql','cql']\n",
    "}\n",
    "\n",
    "collection.insert_one(record)"
   ]
  },
  {
   "cell_type": "code",
   "execution_count": 13,
   "id": "d066d1bd",
   "metadata": {},
   "outputs": [
    {
     "data": {
      "text/plain": [
       "<pymongo.results.InsertOneResult at 0x236a470b9d0>"
      ]
     },
     "execution_count": 13,
     "metadata": {},
     "output_type": "execute_result"
    }
   ],
   "source": [
    "record = {\n",
    "    'employeeName':'vishal',\n",
    "    'age': 28,\n",
    "    'salary': 30000 ,\n",
    "    'skill':['python','sql','mongo'],\n",
    "    'location':'Bangalore'\n",
    "}\n",
    "\n",
    "collection.insert_one(record)"
   ]
  },
  {
   "cell_type": "code",
   "execution_count": 14,
   "id": "d0ac191f",
   "metadata": {},
   "outputs": [
    {
     "data": {
      "text/plain": [
       "<pymongo.results.InsertOneResult at 0x236a5849850>"
      ]
     },
     "execution_count": 14,
     "metadata": {},
     "output_type": "execute_result"
    }
   ],
   "source": [
    "record = {\n",
    "    'employeeName':'Shantanu',\n",
    "    'age': 35,\n",
    "    'designation':'CEO',\n",
    "    'salary': 100000 ,\n",
    "    'skill':['python','sql','mongo','HIVE'],\n",
    "    'location':'Bangalore'\n",
    "}\n",
    "\n",
    "collection.insert_one(record)"
   ]
  },
  {
   "cell_type": "code",
   "execution_count": 15,
   "id": "41bfe5a1",
   "metadata": {},
   "outputs": [],
   "source": [
    "#to give custom ID to a document step 1\n",
    "from bson.objectid import ObjectId"
   ]
  },
  {
   "cell_type": "code",
   "execution_count": 16,
   "id": "180c871f",
   "metadata": {
    "collapsed": true
   },
   "outputs": [
    {
     "ename": "DuplicateKeyError",
     "evalue": "E11000 duplicate key error collection: as20.test index: _id_ dup key: { _id: ObjectId('a8f56ab71d4a4a37bc9b7782') }, full error: {'index': 0, 'code': 11000, 'errmsg': \"E11000 duplicate key error collection: as20.test index: _id_ dup key: { _id: ObjectId('a8f56ab71d4a4a37bc9b7782') }\", 'keyPattern': {'_id': 1}, 'keyValue': {'_id': ObjectId('a8f56ab71d4a4a37bc9b7782')}}",
     "output_type": "error",
     "traceback": [
      "\u001b[1;31m---------------------------------------------------------------------------\u001b[0m",
      "\u001b[1;31mDuplicateKeyError\u001b[0m                         Traceback (most recent call last)",
      "Cell \u001b[1;32mIn[16], line 13\u001b[0m\n\u001b[0;32m      1\u001b[0m \u001b[38;5;66;03m#to give custom ID to a document step 2\u001b[39;00m\n\u001b[0;32m      2\u001b[0m \u001b[38;5;66;03m#NOTE : OBJECT ID can only be 24 character HEX CODE\u001b[39;00m\n\u001b[0;32m      3\u001b[0m record \u001b[38;5;241m=\u001b[39m {\n\u001b[0;32m      4\u001b[0m     \u001b[38;5;124m\"\u001b[39m\u001b[38;5;124m_id\u001b[39m\u001b[38;5;124m\"\u001b[39m:ObjectId(\u001b[38;5;124m\"\u001b[39m\u001b[38;5;124mA8F56AB71D4A4A37BC9B7782\u001b[39m\u001b[38;5;124m\"\u001b[39m),\n\u001b[0;32m      5\u001b[0m     \u001b[38;5;124m\"\u001b[39m\u001b[38;5;124memployeeName\u001b[39m\u001b[38;5;124m\"\u001b[39m:\u001b[38;5;124m\"\u001b[39m\u001b[38;5;124mAjay\u001b[39m\u001b[38;5;124m\"\u001b[39m,\n\u001b[1;32m   (...)\u001b[0m\n\u001b[0;32m     10\u001b[0m     \u001b[38;5;124m\"\u001b[39m\u001b[38;5;124mlocation\u001b[39m\u001b[38;5;124m\"\u001b[39m:\u001b[38;5;124m\"\u001b[39m\u001b[38;5;124mMumbai\u001b[39m\u001b[38;5;124m\"\u001b[39m\n\u001b[0;32m     11\u001b[0m }\n\u001b[1;32m---> 13\u001b[0m \u001b[43mcollection\u001b[49m\u001b[38;5;241;43m.\u001b[39;49m\u001b[43minsert_one\u001b[49m\u001b[43m(\u001b[49m\u001b[43mrecord\u001b[49m\u001b[43m)\u001b[49m\n",
      "File \u001b[1;32mC:\\Programming language\\Python\\Python 39\\lib\\site-packages\\pymongo\\collection.py:628\u001b[0m, in \u001b[0;36mCollection.insert_one\u001b[1;34m(self, document, bypass_document_validation, session, comment)\u001b[0m\n\u001b[0;32m    624\u001b[0m     document[\u001b[38;5;124m\"\u001b[39m\u001b[38;5;124m_id\u001b[39m\u001b[38;5;124m\"\u001b[39m] \u001b[38;5;241m=\u001b[39m ObjectId()  \u001b[38;5;66;03m# type: ignore[index]\u001b[39;00m\n\u001b[0;32m    626\u001b[0m write_concern \u001b[38;5;241m=\u001b[39m \u001b[38;5;28mself\u001b[39m\u001b[38;5;241m.\u001b[39m_write_concern_for(session)\n\u001b[0;32m    627\u001b[0m \u001b[38;5;28;01mreturn\u001b[39;00m InsertOneResult(\n\u001b[1;32m--> 628\u001b[0m     \u001b[38;5;28;43mself\u001b[39;49m\u001b[38;5;241;43m.\u001b[39;49m\u001b[43m_insert_one\u001b[49m\u001b[43m(\u001b[49m\n\u001b[0;32m    629\u001b[0m \u001b[43m        \u001b[49m\u001b[43mdocument\u001b[49m\u001b[43m,\u001b[49m\n\u001b[0;32m    630\u001b[0m \u001b[43m        \u001b[49m\u001b[43mordered\u001b[49m\u001b[38;5;241;43m=\u001b[39;49m\u001b[38;5;28;43;01mTrue\u001b[39;49;00m\u001b[43m,\u001b[49m\n\u001b[0;32m    631\u001b[0m \u001b[43m        \u001b[49m\u001b[43mwrite_concern\u001b[49m\u001b[38;5;241;43m=\u001b[39;49m\u001b[43mwrite_concern\u001b[49m\u001b[43m,\u001b[49m\n\u001b[0;32m    632\u001b[0m \u001b[43m        \u001b[49m\u001b[43mop_id\u001b[49m\u001b[38;5;241;43m=\u001b[39;49m\u001b[38;5;28;43;01mNone\u001b[39;49;00m\u001b[43m,\u001b[49m\n\u001b[0;32m    633\u001b[0m \u001b[43m        \u001b[49m\u001b[43mbypass_doc_val\u001b[49m\u001b[38;5;241;43m=\u001b[39;49m\u001b[43mbypass_document_validation\u001b[49m\u001b[43m,\u001b[49m\n\u001b[0;32m    634\u001b[0m \u001b[43m        \u001b[49m\u001b[43msession\u001b[49m\u001b[38;5;241;43m=\u001b[39;49m\u001b[43msession\u001b[49m\u001b[43m,\u001b[49m\n\u001b[0;32m    635\u001b[0m \u001b[43m        \u001b[49m\u001b[43mcomment\u001b[49m\u001b[38;5;241;43m=\u001b[39;49m\u001b[43mcomment\u001b[49m\u001b[43m,\u001b[49m\n\u001b[0;32m    636\u001b[0m \u001b[43m    \u001b[49m\u001b[43m)\u001b[49m,\n\u001b[0;32m    637\u001b[0m     write_concern\u001b[38;5;241m.\u001b[39macknowledged,\n\u001b[0;32m    638\u001b[0m )\n",
      "File \u001b[1;32mC:\\Programming language\\Python\\Python 39\\lib\\site-packages\\pymongo\\collection.py:569\u001b[0m, in \u001b[0;36mCollection._insert_one\u001b[1;34m(self, doc, ordered, write_concern, op_id, bypass_doc_val, session, comment)\u001b[0m\n\u001b[0;32m    557\u001b[0m     result \u001b[38;5;241m=\u001b[39m sock_info\u001b[38;5;241m.\u001b[39mcommand(\n\u001b[0;32m    558\u001b[0m         \u001b[38;5;28mself\u001b[39m\u001b[38;5;241m.\u001b[39m__database\u001b[38;5;241m.\u001b[39mname,\n\u001b[0;32m    559\u001b[0m         command,\n\u001b[1;32m   (...)\u001b[0m\n\u001b[0;32m    564\u001b[0m         retryable_write\u001b[38;5;241m=\u001b[39mretryable_write,\n\u001b[0;32m    565\u001b[0m     )\n\u001b[0;32m    567\u001b[0m     _check_write_command_response(result)\n\u001b[1;32m--> 569\u001b[0m \u001b[38;5;28;43mself\u001b[39;49m\u001b[38;5;241;43m.\u001b[39;49m\u001b[43m__database\u001b[49m\u001b[38;5;241;43m.\u001b[39;49m\u001b[43mclient\u001b[49m\u001b[38;5;241;43m.\u001b[39;49m\u001b[43m_retryable_write\u001b[49m\u001b[43m(\u001b[49m\u001b[43macknowledged\u001b[49m\u001b[43m,\u001b[49m\u001b[43m \u001b[49m\u001b[43m_insert_command\u001b[49m\u001b[43m,\u001b[49m\u001b[43m \u001b[49m\u001b[43msession\u001b[49m\u001b[43m)\u001b[49m\n\u001b[0;32m    571\u001b[0m \u001b[38;5;28;01mif\u001b[39;00m \u001b[38;5;129;01mnot\u001b[39;00m \u001b[38;5;28misinstance\u001b[39m(doc, RawBSONDocument):\n\u001b[0;32m    572\u001b[0m     \u001b[38;5;28;01mreturn\u001b[39;00m doc\u001b[38;5;241m.\u001b[39mget(\u001b[38;5;124m\"\u001b[39m\u001b[38;5;124m_id\u001b[39m\u001b[38;5;124m\"\u001b[39m)\n",
      "File \u001b[1;32mC:\\Programming language\\Python\\Python 39\\lib\\site-packages\\pymongo\\mongo_client.py:1476\u001b[0m, in \u001b[0;36mMongoClient._retryable_write\u001b[1;34m(self, retryable, func, session)\u001b[0m\n\u001b[0;32m   1474\u001b[0m \u001b[38;5;250m\u001b[39m\u001b[38;5;124;03m\"\"\"Internal retryable write helper.\"\"\"\u001b[39;00m\n\u001b[0;32m   1475\u001b[0m \u001b[38;5;28;01mwith\u001b[39;00m \u001b[38;5;28mself\u001b[39m\u001b[38;5;241m.\u001b[39m_tmp_session(session) \u001b[38;5;28;01mas\u001b[39;00m s:\n\u001b[1;32m-> 1476\u001b[0m     \u001b[38;5;28;01mreturn\u001b[39;00m \u001b[38;5;28;43mself\u001b[39;49m\u001b[38;5;241;43m.\u001b[39;49m\u001b[43m_retry_with_session\u001b[49m\u001b[43m(\u001b[49m\u001b[43mretryable\u001b[49m\u001b[43m,\u001b[49m\u001b[43m \u001b[49m\u001b[43mfunc\u001b[49m\u001b[43m,\u001b[49m\u001b[43m \u001b[49m\u001b[43ms\u001b[49m\u001b[43m,\u001b[49m\u001b[43m \u001b[49m\u001b[38;5;28;43;01mNone\u001b[39;49;00m\u001b[43m)\u001b[49m\n",
      "File \u001b[1;32mC:\\Programming language\\Python\\Python 39\\lib\\site-packages\\pymongo\\mongo_client.py:1349\u001b[0m, in \u001b[0;36mMongoClient._retry_with_session\u001b[1;34m(self, retryable, func, session, bulk)\u001b[0m\n\u001b[0;32m   1339\u001b[0m \u001b[38;5;250m\u001b[39m\u001b[38;5;124;03m\"\"\"Execute an operation with at most one consecutive retries\u001b[39;00m\n\u001b[0;32m   1340\u001b[0m \n\u001b[0;32m   1341\u001b[0m \u001b[38;5;124;03mReturns func()'s return value on success. On error retries the same\u001b[39;00m\n\u001b[1;32m   (...)\u001b[0m\n\u001b[0;32m   1344\u001b[0m \u001b[38;5;124;03mRe-raises any exception thrown by func().\u001b[39;00m\n\u001b[0;32m   1345\u001b[0m \u001b[38;5;124;03m\"\"\"\u001b[39;00m\n\u001b[0;32m   1346\u001b[0m retryable \u001b[38;5;241m=\u001b[39m (\n\u001b[0;32m   1347\u001b[0m     retryable \u001b[38;5;129;01mand\u001b[39;00m \u001b[38;5;28mself\u001b[39m\u001b[38;5;241m.\u001b[39moptions\u001b[38;5;241m.\u001b[39mretry_writes \u001b[38;5;129;01mand\u001b[39;00m session \u001b[38;5;129;01mand\u001b[39;00m \u001b[38;5;129;01mnot\u001b[39;00m session\u001b[38;5;241m.\u001b[39min_transaction\n\u001b[0;32m   1348\u001b[0m )\n\u001b[1;32m-> 1349\u001b[0m \u001b[38;5;28;01mreturn\u001b[39;00m \u001b[38;5;28;43mself\u001b[39;49m\u001b[38;5;241;43m.\u001b[39;49m\u001b[43m_retry_internal\u001b[49m\u001b[43m(\u001b[49m\u001b[43mretryable\u001b[49m\u001b[43m,\u001b[49m\u001b[43m \u001b[49m\u001b[43mfunc\u001b[49m\u001b[43m,\u001b[49m\u001b[43m \u001b[49m\u001b[43msession\u001b[49m\u001b[43m,\u001b[49m\u001b[43m \u001b[49m\u001b[43mbulk\u001b[49m\u001b[43m)\u001b[49m\n",
      "File \u001b[1;32mC:\\Programming language\\Python\\Python 39\\lib\\site-packages\\pymongo\\_csot.py:105\u001b[0m, in \u001b[0;36mapply.<locals>.csot_wrapper\u001b[1;34m(self, *args, **kwargs)\u001b[0m\n\u001b[0;32m    103\u001b[0m         \u001b[38;5;28;01mwith\u001b[39;00m _TimeoutContext(timeout):\n\u001b[0;32m    104\u001b[0m             \u001b[38;5;28;01mreturn\u001b[39;00m func(\u001b[38;5;28mself\u001b[39m, \u001b[38;5;241m*\u001b[39margs, \u001b[38;5;241m*\u001b[39m\u001b[38;5;241m*\u001b[39mkwargs)\n\u001b[1;32m--> 105\u001b[0m \u001b[38;5;28;01mreturn\u001b[39;00m func(\u001b[38;5;28mself\u001b[39m, \u001b[38;5;241m*\u001b[39margs, \u001b[38;5;241m*\u001b[39m\u001b[38;5;241m*\u001b[39mkwargs)\n",
      "File \u001b[1;32mC:\\Programming language\\Python\\Python 39\\lib\\site-packages\\pymongo\\mongo_client.py:1390\u001b[0m, in \u001b[0;36mMongoClient._retry_internal\u001b[1;34m(self, retryable, func, session, bulk)\u001b[0m\n\u001b[0;32m   1388\u001b[0m                 \u001b[38;5;28;01mraise\u001b[39;00m last_error\n\u001b[0;32m   1389\u001b[0m             retryable \u001b[38;5;241m=\u001b[39m \u001b[38;5;28;01mFalse\u001b[39;00m\n\u001b[1;32m-> 1390\u001b[0m         \u001b[38;5;28;01mreturn\u001b[39;00m \u001b[43mfunc\u001b[49m\u001b[43m(\u001b[49m\u001b[43msession\u001b[49m\u001b[43m,\u001b[49m\u001b[43m \u001b[49m\u001b[43msock_info\u001b[49m\u001b[43m,\u001b[49m\u001b[43m \u001b[49m\u001b[43mretryable\u001b[49m\u001b[43m)\u001b[49m\n\u001b[0;32m   1391\u001b[0m \u001b[38;5;28;01mexcept\u001b[39;00m ServerSelectionTimeoutError:\n\u001b[0;32m   1392\u001b[0m     \u001b[38;5;28;01mif\u001b[39;00m is_retrying():\n\u001b[0;32m   1393\u001b[0m         \u001b[38;5;66;03m# The application may think the write was never attempted\u001b[39;00m\n\u001b[0;32m   1394\u001b[0m         \u001b[38;5;66;03m# if we raise ServerSelectionTimeoutError on the retry\u001b[39;00m\n\u001b[0;32m   1395\u001b[0m         \u001b[38;5;66;03m# attempt. Raise the original exception instead.\u001b[39;00m\n",
      "File \u001b[1;32mC:\\Programming language\\Python\\Python 39\\lib\\site-packages\\pymongo\\collection.py:567\u001b[0m, in \u001b[0;36mCollection._insert_one.<locals>._insert_command\u001b[1;34m(session, sock_info, retryable_write)\u001b[0m\n\u001b[0;32m    555\u001b[0m     command[\u001b[38;5;124m\"\u001b[39m\u001b[38;5;124mbypassDocumentValidation\u001b[39m\u001b[38;5;124m\"\u001b[39m] \u001b[38;5;241m=\u001b[39m \u001b[38;5;28;01mTrue\u001b[39;00m\n\u001b[0;32m    557\u001b[0m result \u001b[38;5;241m=\u001b[39m sock_info\u001b[38;5;241m.\u001b[39mcommand(\n\u001b[0;32m    558\u001b[0m     \u001b[38;5;28mself\u001b[39m\u001b[38;5;241m.\u001b[39m__database\u001b[38;5;241m.\u001b[39mname,\n\u001b[0;32m    559\u001b[0m     command,\n\u001b[1;32m   (...)\u001b[0m\n\u001b[0;32m    564\u001b[0m     retryable_write\u001b[38;5;241m=\u001b[39mretryable_write,\n\u001b[0;32m    565\u001b[0m )\n\u001b[1;32m--> 567\u001b[0m \u001b[43m_check_write_command_response\u001b[49m\u001b[43m(\u001b[49m\u001b[43mresult\u001b[49m\u001b[43m)\u001b[49m\n",
      "File \u001b[1;32mC:\\Programming language\\Python\\Python 39\\lib\\site-packages\\pymongo\\helpers.py:217\u001b[0m, in \u001b[0;36m_check_write_command_response\u001b[1;34m(result)\u001b[0m\n\u001b[0;32m    215\u001b[0m write_errors \u001b[38;5;241m=\u001b[39m result\u001b[38;5;241m.\u001b[39mget(\u001b[38;5;124m\"\u001b[39m\u001b[38;5;124mwriteErrors\u001b[39m\u001b[38;5;124m\"\u001b[39m)\n\u001b[0;32m    216\u001b[0m \u001b[38;5;28;01mif\u001b[39;00m write_errors:\n\u001b[1;32m--> 217\u001b[0m     \u001b[43m_raise_last_write_error\u001b[49m\u001b[43m(\u001b[49m\u001b[43mwrite_errors\u001b[49m\u001b[43m)\u001b[49m\n\u001b[0;32m    219\u001b[0m wce \u001b[38;5;241m=\u001b[39m _get_wce_doc(result)\n\u001b[0;32m    220\u001b[0m \u001b[38;5;28;01mif\u001b[39;00m wce:\n",
      "File \u001b[1;32mC:\\Programming language\\Python\\Python 39\\lib\\site-packages\\pymongo\\helpers.py:189\u001b[0m, in \u001b[0;36m_raise_last_write_error\u001b[1;34m(write_errors)\u001b[0m\n\u001b[0;32m    187\u001b[0m error \u001b[38;5;241m=\u001b[39m write_errors[\u001b[38;5;241m-\u001b[39m\u001b[38;5;241m1\u001b[39m]\n\u001b[0;32m    188\u001b[0m \u001b[38;5;28;01mif\u001b[39;00m error\u001b[38;5;241m.\u001b[39mget(\u001b[38;5;124m\"\u001b[39m\u001b[38;5;124mcode\u001b[39m\u001b[38;5;124m\"\u001b[39m) \u001b[38;5;241m==\u001b[39m \u001b[38;5;241m11000\u001b[39m:\n\u001b[1;32m--> 189\u001b[0m     \u001b[38;5;28;01mraise\u001b[39;00m DuplicateKeyError(error\u001b[38;5;241m.\u001b[39mget(\u001b[38;5;124m\"\u001b[39m\u001b[38;5;124merrmsg\u001b[39m\u001b[38;5;124m\"\u001b[39m), \u001b[38;5;241m11000\u001b[39m, error)\n\u001b[0;32m    190\u001b[0m \u001b[38;5;28;01mraise\u001b[39;00m WriteError(error\u001b[38;5;241m.\u001b[39mget(\u001b[38;5;124m\"\u001b[39m\u001b[38;5;124merrmsg\u001b[39m\u001b[38;5;124m\"\u001b[39m), error\u001b[38;5;241m.\u001b[39mget(\u001b[38;5;124m\"\u001b[39m\u001b[38;5;124mcode\u001b[39m\u001b[38;5;124m\"\u001b[39m), error)\n",
      "\u001b[1;31mDuplicateKeyError\u001b[0m: E11000 duplicate key error collection: as20.test index: _id_ dup key: { _id: ObjectId('a8f56ab71d4a4a37bc9b7782') }, full error: {'index': 0, 'code': 11000, 'errmsg': \"E11000 duplicate key error collection: as20.test index: _id_ dup key: { _id: ObjectId('a8f56ab71d4a4a37bc9b7782') }\", 'keyPattern': {'_id': 1}, 'keyValue': {'_id': ObjectId('a8f56ab71d4a4a37bc9b7782')}}"
     ]
    }
   ],
   "source": [
    "#to give custom ID to a document step 2\n",
    "#NOTE : OBJECT ID can only be 24 character HEX CODE\n",
    "record = {\n",
    "    \"_id\":ObjectId(\"A8F56AB71D4A4A37BC9B7782\"),\n",
    "    \"employeeName\":\"Ajay\",\n",
    "    \"age\": 25,\n",
    "    \"designation\":\"Student\",\n",
    "    \"salary\": 32000 ,\n",
    "    \"skill\":['python','sql','mongo','HIVE'],\n",
    "    \"location\":\"Mumbai\"\n",
    "}\n",
    "\n",
    "collection.insert_one(record)"
   ]
  },
  {
   "cell_type": "code",
   "execution_count": 18,
   "id": "48005a5f",
   "metadata": {},
   "outputs": [
    {
     "name": "stdout",
     "output_type": "stream",
     "text": [
      "The database as20 is already availabe in ['BigData', 'admin', 'as20', 'config', 'local'].Please choose a new name.\n"
     ]
    },
    {
     "data": {
      "text/plain": [
       "True"
      ]
     },
     "execution_count": 18,
     "metadata": {},
     "output_type": "execute_result"
    }
   ],
   "source": [
    "checkDB(DB_name=\"as20\",client=client)"
   ]
  },
  {
   "cell_type": "code",
   "execution_count": 24,
   "id": "05a6af1f",
   "metadata": {},
   "outputs": [
    {
     "name": "stdout",
     "output_type": "stream",
     "text": [
      "The collection test is already availabe in as20.Please choose a new name.\n"
     ]
    },
    {
     "data": {
      "text/plain": [
       "True"
      ]
     },
     "execution_count": 24,
     "metadata": {},
     "output_type": "execute_result"
    }
   ],
   "source": [
    "DB_name = \"as20\"\n",
    "database = client[DB_name]\n",
    "\n",
    "checkcollection(collection_name=\"test\", DB_name=\"as20\" , db=database)"
   ]
  },
  {
   "cell_type": "code",
   "execution_count": 26,
   "id": "74576bf3",
   "metadata": {},
   "outputs": [
    {
     "data": {
      "text/plain": [
       "<pymongo.results.InsertManyResult at 0x236a66573d0>"
      ]
     },
     "execution_count": 26,
     "metadata": {},
     "output_type": "execute_result"
    }
   ],
   "source": [
    "#to insert multiple records\n",
    "\n",
    "record = [{\n",
    "    'employeeName':'Shantanu',\n",
    "    'age': 35,\n",
    "    'designation':'CEO',\n",
    "    'salary': 100000 ,\n",
    "    'skill':['python','sql','mongo','HIVE'],\n",
    "    'location':'Bangalore'\n",
    "},\n",
    "{'employeeName':'Swati',\n",
    "    'age': 30,\n",
    "    'designation':'Manager',\n",
    "    'salary': 60000 ,\n",
    "    'skill':['python','sql','mongo','HIVE'],\n",
    "    'location':'Lucknow'},\n",
    "{'employeeName':'Abeg',\n",
    "    'age': 29,\n",
    "    'designation':'worker',\n",
    "    'salary': 10000 ,\n",
    "    'skill':['python','sql'],\n",
    "    'location':'Bihar'}\n",
    "]\n",
    "\n",
    "collection.insert_many(record)"
   ]
  },
  {
   "cell_type": "code",
   "execution_count": 29,
   "id": "62bf21e6",
   "metadata": {},
   "outputs": [
    {
     "data": {
      "text/plain": [
       "<pymongo.results.InsertManyResult at 0x236a6befe50>"
      ]
     },
     "execution_count": 29,
     "metadata": {},
     "output_type": "execute_result"
    }
   ],
   "source": [
    "#fetching data from DB to jupyter.\n",
    "\n",
    "db_1 = client[\"as20\"]\n",
    "collection_name = \"classmentors\"\n",
    "mentors = db_1[collection_name]\n",
    "\n",
    "list_of_records_user_defined_id = [\n",
    "    {\n",
    "        \"_id\":\"1\",\n",
    "        \"name\":\"Krish\",\n",
    "        \"courses\":[\"DS\",\"ML\",\"NLP\"]\n",
    "    },\n",
    "    {\n",
    "        \"_id\":\"2\",\n",
    "        \"name\":\"Sudhanshu\",\n",
    "        \"courses\":[\"DS\",\"ML\",\"Big Data\"]\n",
    "    },\n",
    "    {\n",
    "        \"_id\":\"3\",\n",
    "        \"name\":\"Shashank\",\n",
    "        \"courses\":\"Big Data\"\n",
    "    }\n",
    "]\n",
    "\n",
    "mentors.insert_many(list_of_records_user_defined_id)"
   ]
  },
  {
   "cell_type": "code",
   "execution_count": 30,
   "id": "6d72f6ee",
   "metadata": {},
   "outputs": [
    {
     "name": "stdout",
     "output_type": "stream",
     "text": [
      "{'_id': '1', 'name': 'Krish', 'courses': ['DS', 'ML', 'NLP']}\n"
     ]
    }
   ],
   "source": [
    "#fetching data from DB to jupyter.\n",
    "\n",
    "find_first_record = mentors.find_one()\n",
    "print(find_first_record)"
   ]
  },
  {
   "cell_type": "code",
   "execution_count": 32,
   "id": "fe740e3f",
   "metadata": {},
   "outputs": [
    {
     "name": "stdout",
     "output_type": "stream",
     "text": [
      "{'_id': '1', 'name': 'Krish', 'courses': ['DS', 'ML', 'NLP']}\n",
      "{'_id': '2', 'name': 'Sudhanshu', 'courses': ['DS', 'ML', 'Big Data']}\n",
      "{'_id': '3', 'name': 'Shashank', 'courses': 'Big Data'}\n"
     ]
    }
   ],
   "source": [
    "for i in mentors.find():\n",
    "    print(i)"
   ]
  },
  {
   "cell_type": "code",
   "execution_count": 33,
   "id": "86c22592",
   "metadata": {},
   "outputs": [
    {
     "name": "stdout",
     "output_type": "stream",
     "text": [
      "0: {'_id': '1', 'name': 'Krish', 'courses': ['DS', 'ML', 'NLP']}\n",
      "1: {'_id': '2', 'name': 'Sudhanshu', 'courses': ['DS', 'ML', 'Big Data']}\n",
      "2: {'_id': '3', 'name': 'Shashank', 'courses': 'Big Data'}\n"
     ]
    }
   ],
   "source": [
    "all_mentors = mentors.find()\n",
    "\n",
    "for idx,record in enumerate(all_mentors):\n",
    "    print(f\"{idx}: {record}\")"
   ]
  },
  {
   "cell_type": "code",
   "execution_count": 35,
   "id": "6c7f2bc4",
   "metadata": {},
   "outputs": [
    {
     "name": "stdout",
     "output_type": "stream",
     "text": [
      "{'_id': '2', 'name': 'Sudhanshu', 'courses': ['DS', 'ML', 'Big Data']}\n"
     ]
    }
   ],
   "source": [
    "#filter out the collection\n",
    "\n",
    "for i in mentors.find({\"name\":\"Sudhanshu\"}):\n",
    "    print(i)"
   ]
  },
  {
   "cell_type": "code",
   "execution_count": 39,
   "id": "c845bb3b",
   "metadata": {},
   "outputs": [
    {
     "name": "stdout",
     "output_type": "stream",
     "text": [
      "{'_id': '2', 'name': 'Sudhanshu', 'courses': ['DS', 'ML', 'Big Data']}\n",
      "{'_id': '3', 'name': 'Shashank', 'courses': 'Big Data'}\n"
     ]
    }
   ],
   "source": [
    "for i in mentors.find({\"_id\":{\"$gt\": \"1\"}}):\n",
    "    print(i)"
   ]
  },
  {
   "cell_type": "code",
   "execution_count": 41,
   "id": "7d2ba874",
   "metadata": {},
   "outputs": [
    {
     "name": "stdout",
     "output_type": "stream",
     "text": [
      "{'_id': '1', 'name': 'Krish', 'courses': ['DS', 'ML', 'NLP']}\n",
      "{'_id': '2', 'name': 'Sudhanshu', 'courses': ['DS', 'ML', 'Big Data']}\n"
     ]
    }
   ],
   "source": [
    "for i in mentors.find({\"_id\":{\"$lt\": \"3\"}}):\n",
    "    print(i)"
   ]
  },
  {
   "cell_type": "code",
   "execution_count": 42,
   "id": "eba14462",
   "metadata": {},
   "outputs": [
    {
     "name": "stdout",
     "output_type": "stream",
     "text": [
      "{'_id': ObjectId('642826e661ceb176c1e7802f'), 'employeeName': 'shashank', 'age': 29, 'salary': 30000, 'skill': ['python', 'sql', 'pgsql', 'cql']}\n",
      "{'_id': ObjectId('6428284a61ceb176c1e78030'), 'employeeName': 'vishal', 'age': 28, 'salary': 30000, 'skill': ['python', 'sql', 'mongo'], 'location': 'Bangalore'}\n",
      "{'_id': ObjectId('642829bf61ceb176c1e78031'), 'employeeName': 'Shantanu', 'age': 35, 'designation': 'CEO', 'salary': 100000, 'skill': ['python', 'sql', 'mongo', 'HIVE'], 'location': 'Bangalore'}\n",
      "{'_id': ObjectId('a8f56ab71d4a4a37bc9b7782'), 'employeeName': 'Ajay', 'age': 25, 'designation': 'Student', 'salary': 32000, 'skill': ['python', 'sql', 'mongo', 'HIVE'], 'location': 'Mumbai'}\n",
      "{'_id': ObjectId('64282f99b2366100be8eadb0'), 'employeeName': 'shashank', 'age': 29, 'salary': 30000, 'skill': ['python', 'sql', 'pgsql', 'cql']}\n",
      "{'_id': ObjectId('64282f99b2366100be8eadb1'), 'employeeName': 'vishal', 'age': 28, 'salary': 30000, 'skill': ['python', 'sql', 'mongo'], 'location': 'Bangalore'}\n",
      "{'_id': ObjectId('64282f99b2366100be8eadb2'), 'employeeName': 'Shantanu', 'age': 35, 'designation': 'CEO', 'salary': 100000, 'skill': ['python', 'sql', 'mongo', 'HIVE'], 'location': 'Bangalore'}\n",
      "{'_id': ObjectId('64287da9b2366100be8eadb3'), 'employeeName': 'Shantanu', 'age': 35, 'designation': 'CEO', 'salary': 100000, 'skill': ['python', 'sql', 'mongo', 'HIVE'], 'location': 'Bangalore'}\n",
      "{'_id': ObjectId('64287da9b2366100be8eadb4'), 'employeeName': 'Swati', 'age': 30, 'designation': 'Manager', 'salary': 60000, 'skill': ['python', 'sql', 'mongo', 'HIVE'], 'location': 'Lucknow'}\n",
      "{'_id': ObjectId('64287da9b2366100be8eadb5'), 'employeeName': 'Abeg', 'age': 29, 'designation': 'worker', 'salary': 10000, 'skill': ['python', 'sql'], 'location': 'Bihar'}\n"
     ]
    }
   ],
   "source": [
    "db_1 = client[\"as20\"]\n",
    "collection_name = \"test\"\n",
    "test_data = db_1[collection_name]\n",
    "\n",
    "for i in test_data.find():\n",
    "    print(i)"
   ]
  },
  {
   "cell_type": "code",
   "execution_count": 44,
   "id": "da0f65de",
   "metadata": {},
   "outputs": [
    {
     "name": "stdout",
     "output_type": "stream",
     "text": [
      "0: {'_id': ObjectId('642826e661ceb176c1e7802f'), 'employeeName': 'shashank', 'age': 29, 'salary': 30000, 'skill': ['python', 'sql', 'pgsql', 'cql']}\n",
      "1: {'_id': ObjectId('6428284a61ceb176c1e78030'), 'employeeName': 'vishal', 'age': 28, 'salary': 30000, 'skill': ['python', 'sql', 'mongo'], 'location': 'Bangalore'}\n",
      "2: {'_id': ObjectId('642829bf61ceb176c1e78031'), 'employeeName': 'Shantanu', 'age': 35, 'designation': 'CEO', 'salary': 100000, 'skill': ['python', 'sql', 'mongo', 'HIVE'], 'location': 'Bangalore'}\n",
      "3: {'_id': ObjectId('a8f56ab71d4a4a37bc9b7782'), 'employeeName': 'Ajay', 'age': 25, 'designation': 'Student', 'salary': 32000, 'skill': ['python', 'sql', 'mongo', 'HIVE'], 'location': 'Mumbai'}\n",
      "4: {'_id': ObjectId('64282f99b2366100be8eadb0'), 'employeeName': 'shashank', 'age': 29, 'salary': 30000, 'skill': ['python', 'sql', 'pgsql', 'cql']}\n",
      "5: {'_id': ObjectId('64282f99b2366100be8eadb1'), 'employeeName': 'vishal', 'age': 28, 'salary': 30000, 'skill': ['python', 'sql', 'mongo'], 'location': 'Bangalore'}\n",
      "6: {'_id': ObjectId('64282f99b2366100be8eadb2'), 'employeeName': 'Shantanu', 'age': 35, 'designation': 'CEO', 'salary': 100000, 'skill': ['python', 'sql', 'mongo', 'HIVE'], 'location': 'Bangalore'}\n",
      "7: {'_id': ObjectId('64287da9b2366100be8eadb3'), 'employeeName': 'Shantanu', 'age': 35, 'designation': 'CEO', 'salary': 100000, 'skill': ['python', 'sql', 'mongo', 'HIVE'], 'location': 'Bangalore'}\n",
      "8: {'_id': ObjectId('64287da9b2366100be8eadb4'), 'employeeName': 'Swati', 'age': 30, 'designation': 'Manager', 'salary': 60000, 'skill': ['python', 'sql', 'mongo', 'HIVE'], 'location': 'Lucknow'}\n",
      "9: {'_id': ObjectId('64287da9b2366100be8eadb5'), 'employeeName': 'Abeg', 'age': 29, 'designation': 'worker', 'salary': 10000, 'skill': ['python', 'sql'], 'location': 'Bihar'}\n"
     ]
    }
   ],
   "source": [
    "all_data = test_data.find()\n",
    "\n",
    "for idx,record in enumerate(all_data):\n",
    "    print(f\"{idx}: {record}\")"
   ]
  },
  {
   "cell_type": "code",
   "execution_count": 52,
   "id": "23b2e292",
   "metadata": {},
   "outputs": [
    {
     "name": "stdout",
     "output_type": "stream",
     "text": [
      "{'_id': ObjectId('642829bf61ceb176c1e78031'), 'employeeName': 'Shantanu', 'age': 35, 'designation': 'CEO', 'salary': 100000, 'skill': ['python', 'sql', 'mongo', 'HIVE'], 'location': 'Bangalore'}\n",
      "{'_id': ObjectId('64282f99b2366100be8eadb2'), 'employeeName': 'Shantanu', 'age': 35, 'designation': 'CEO', 'salary': 100000, 'skill': ['python', 'sql', 'mongo', 'HIVE'], 'location': 'Bangalore'}\n",
      "{'_id': ObjectId('64287da9b2366100be8eadb3'), 'employeeName': 'Shantanu', 'age': 35, 'designation': 'CEO', 'salary': 100000, 'skill': ['python', 'sql', 'mongo', 'HIVE'], 'location': 'Bangalore'}\n"
     ]
    }
   ],
   "source": [
    "for i in test_data.find({\"employeeName\":\"Shantanu\"}):\n",
    "    print(i)"
   ]
  },
  {
   "cell_type": "code",
   "execution_count": 48,
   "id": "fbb0cdc4",
   "metadata": {},
   "outputs": [
    {
     "data": {
      "text/plain": [
       "<pymongo.results.DeleteResult at 0x236a8089e50>"
      ]
     },
     "execution_count": 48,
     "metadata": {},
     "output_type": "execute_result"
    }
   ],
   "source": [
    "#delete one records\n",
    "\n",
    "test_data.delete_one({'_id':ObjectId('64282f99b2366100be8eadb0')})"
   ]
  },
  {
   "cell_type": "code",
   "execution_count": 57,
   "id": "a66cd2b2",
   "metadata": {},
   "outputs": [
    {
     "data": {
      "text/plain": [
       "<pymongo.results.DeleteResult at 0x236a7d88550>"
      ]
     },
     "execution_count": 57,
     "metadata": {},
     "output_type": "execute_result"
    }
   ],
   "source": [
    "#delete many records\n",
    "\n",
    "test_data.delete_many({\"age\":{\"$gt\":30}})"
   ]
  },
  {
   "cell_type": "code",
   "execution_count": 60,
   "id": "d5673efd",
   "metadata": {},
   "outputs": [
    {
     "data": {
      "text/plain": [
       "<pymongo.results.DeleteResult at 0x236a7e36370>"
      ]
     },
     "execution_count": 60,
     "metadata": {},
     "output_type": "execute_result"
    }
   ],
   "source": [
    "test_data.delete_many({\"age\":{\"$gt\":29}} and {'_id':ObjectId('64287da9b2366100be8eadb5')})"
   ]
  },
  {
   "cell_type": "code",
   "execution_count": 58,
   "id": "b2e97355",
   "metadata": {},
   "outputs": [],
   "source": [
    "for i in test_data.find({\"age\":{\"$gt\":30}}):\n",
    "    print(i)"
   ]
  },
  {
   "cell_type": "code",
   "execution_count": 59,
   "id": "9dc35451",
   "metadata": {},
   "outputs": [],
   "source": [
    "#to drop/delete a collection\n",
    "\n",
    "mentors.drop()"
   ]
  },
  {
   "cell_type": "code",
   "execution_count": null,
   "id": "9641f9dc",
   "metadata": {},
   "outputs": [],
   "source": []
  }
 ],
 "metadata": {
  "kernelspec": {
   "display_name": "Python 3 (ipykernel)",
   "language": "python",
   "name": "python3"
  },
  "language_info": {
   "codemirror_mode": {
    "name": "ipython",
    "version": 3
   },
   "file_extension": ".py",
   "mimetype": "text/x-python",
   "name": "python",
   "nbconvert_exporter": "python",
   "pygments_lexer": "ipython3",
   "version": "3.9.7"
  }
 },
 "nbformat": 4,
 "nbformat_minor": 5
}
